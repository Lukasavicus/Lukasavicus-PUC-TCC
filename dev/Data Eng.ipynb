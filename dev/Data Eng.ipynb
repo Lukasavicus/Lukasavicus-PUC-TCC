{
 "cells": [
  {
   "cell_type": "code",
   "execution_count": null,
   "id": "402116cd",
   "metadata": {},
   "outputs": [],
   "source": [
    "# https://dados.mg.gov.br/dataset/despesa\n",
    "# https://www.transparencia.mg.gov.br/"
   ]
  },
  {
   "cell_type": "code",
   "execution_count": 1,
   "id": "0a74dc8c",
   "metadata": {},
   "outputs": [],
   "source": [
    "import requests\n",
    "from bs4 import BeautifulSoup as bs\n",
    "import pandas as pd"
   ]
  },
  {
   "cell_type": "code",
   "execution_count": 2,
   "id": "2e4abea7",
   "metadata": {},
   "outputs": [],
   "source": [
    "url = \"https://dados.mg.gov.br/dataset/despesa\""
   ]
  },
  {
   "cell_type": "code",
   "execution_count": 3,
   "id": "497ca82b",
   "metadata": {},
   "outputs": [
    {
     "name": "stderr",
     "output_type": "stream",
     "text": [
      "C:\\Users\\67650\\AppData\\Local\\Programs\\Python\\Python311\\Lib\\site-packages\\urllib3\\connectionpool.py:1045: InsecureRequestWarning: Unverified HTTPS request is being made to host 'dados.mg.gov.br'. Adding certificate verification is strongly advised. See: https://urllib3.readthedocs.io/en/1.26.x/advanced-usage.html#ssl-warnings\n",
      "  warnings.warn(\n"
     ]
    }
   ],
   "source": [
    "r = requests.get(url, verify=False)"
   ]
  },
  {
   "cell_type": "code",
   "execution_count": 4,
   "id": "1951d250",
   "metadata": {},
   "outputs": [],
   "source": [
    "page = bs(r.text)"
   ]
  },
  {
   "cell_type": "code",
   "execution_count": 5,
   "id": "33affa8e",
   "metadata": {},
   "outputs": [],
   "source": [
    "items = page.find_all('li', {'class' : 'resource-item'})\n",
    "ids = [item['data-id'] for item in items]\n",
    "links = [f\"https://dados.mg.gov.br/dataset/despesa/resource/{i}\" for i in ids]"
   ]
  },
  {
   "cell_type": "code",
   "execution_count": null,
   "id": "d5d87040",
   "metadata": {},
   "outputs": [],
   "source": [
    "for link in links:\n",
    "    resource_page = requests.get(link)\n",
    "    resource_link = bs(resource_page)"
   ]
  },
  {
   "cell_type": "code",
   "execution_count": null,
   "id": "6124d706",
   "metadata": {},
   "outputs": [],
   "source": [
    "print(links[1])\n",
    "p = requests.get(links[1])\n",
    "pp = bs(p.text, verify=False)"
   ]
  },
  {
   "cell_type": "code",
   "execution_count": null,
   "id": "346f3c79",
   "metadata": {},
   "outputs": [],
   "source": [
    "# links[0]"
   ]
  },
  {
   "cell_type": "code",
   "execution_count": null,
   "id": "6b6a79f9",
   "metadata": {},
   "outputs": [],
   "source": [
    "# https://dados.mg.gov.br/dataset/despesa/resource/73dc1c25-3cb7-4ccb-b841-400cee4fd097"
   ]
  },
  {
   "cell_type": "code",
   "execution_count": null,
   "id": "389b0cb0",
   "metadata": {},
   "outputs": [],
   "source": [
    "links = [f\"https://dados.mg.gov.br/dataset/despesa/resource/{i}\" for i in ids]"
   ]
  },
  {
   "cell_type": "code",
   "execution_count": null,
   "id": "39f904ce",
   "metadata": {},
   "outputs": [],
   "source": []
  },
  {
   "cell_type": "code",
   "execution_count": 15,
   "id": "22b5c5d1",
   "metadata": {},
   "outputs": [],
   "source": [
    "# df = pd.read_csv('sample.tar.gz', compression='gzip', header=0, sep=' ', quotechar='\"', error_bad_lines=False)\n",
    "# df = pd.read_csv(links[0], compression='gzip')\n",
    "\n",
    "l = \"https://dados.mg.gov.br/dataset/eb709e1d-c19e-4371-b1ea-436920cf537a/resource/73dc1c25-3cb7-4ccb-b841-400cee4fd097/download/dm_unidade_orc.csv.gz\"\n",
    "df = pd.read_csv(l, sep=';', compression='gzip')#, on_bad_lines='skip')"
   ]
  },
  {
   "cell_type": "code",
   "execution_count": 16,
   "id": "550304c1",
   "metadata": {},
   "outputs": [
    {
     "data": {
      "text/html": [
       "<div>\n",
       "<style scoped>\n",
       "    .dataframe tbody tr th:only-of-type {\n",
       "        vertical-align: middle;\n",
       "    }\n",
       "\n",
       "    .dataframe tbody tr th {\n",
       "        vertical-align: top;\n",
       "    }\n",
       "\n",
       "    .dataframe thead th {\n",
       "        text-align: right;\n",
       "    }\n",
       "</style>\n",
       "<table border=\"1\" class=\"dataframe\">\n",
       "  <thead>\n",
       "    <tr style=\"text-align: right;\">\n",
       "      <th></th>\n",
       "      <th>id_unidade_orc</th>\n",
       "      <th>ano_exercicio</th>\n",
       "      <th>cd_unidade_orc</th>\n",
       "      <th>id_grupo_administracao</th>\n",
       "      <th>grupo_administracao</th>\n",
       "      <th>id_administracao</th>\n",
       "      <th>administracao</th>\n",
       "      <th>nome</th>\n",
       "      <th>sigla</th>\n",
       "    </tr>\n",
       "  </thead>\n",
       "  <tbody>\n",
       "  </tbody>\n",
       "</table>\n",
       "</div>"
      ],
      "text/plain": [
       "Empty DataFrame\n",
       "Columns: [id_unidade_orc, ano_exercicio, cd_unidade_orc, id_grupo_administracao, grupo_administracao, id_administracao, administracao, nome, sigla]\n",
       "Index: []"
      ]
     },
     "execution_count": 16,
     "metadata": {},
     "output_type": "execute_result"
    }
   ],
   "source": [
    "df"
   ]
  },
  {
   "cell_type": "code",
   "execution_count": null,
   "id": "88a0410e",
   "metadata": {},
   "outputs": [],
   "source": [
    "# resource-url-analytics\n",
    "# URL: https://dados.mg.gov.br/dataset/eb709e1d-c19e-4371-b1ea-436920cf537a/resource/73dc1c25-3cb7-4ccb-b841-400cee4fd097/download/dm_unidade_orc.csv.gz"
   ]
  },
  {
   "cell_type": "code",
   "execution_count": null,
   "id": "6fc653b7",
   "metadata": {},
   "outputs": [],
   "source": []
  },
  {
   "cell_type": "code",
   "execution_count": null,
   "id": "47197957",
   "metadata": {},
   "outputs": [],
   "source": []
  }
 ],
 "metadata": {
  "kernelspec": {
   "display_name": "Python 3 (ipykernel)",
   "language": "python",
   "name": "python3"
  },
  "language_info": {
   "codemirror_mode": {
    "name": "ipython",
    "version": 3
   },
   "file_extension": ".py",
   "mimetype": "text/x-python",
   "name": "python",
   "nbconvert_exporter": "python",
   "pygments_lexer": "ipython3",
   "version": "3.11.3"
  }
 },
 "nbformat": 4,
 "nbformat_minor": 5
}
