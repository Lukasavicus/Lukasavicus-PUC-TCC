{
 "cells": [
  {
   "cell_type": "markdown",
   "id": "158b48e8",
   "metadata": {},
   "source": [
    "# TCC - V1\n"
   ]
  },
  {
   "cell_type": "code",
   "execution_count": 1,
   "id": "c20f589a",
   "metadata": {},
   "outputs": [],
   "source": [
    "import ipeadatapy as idpy"
   ]
  },
  {
   "cell_type": "code",
   "execution_count": 3,
   "id": "74261ea0",
   "metadata": {},
   "outputs": [
    {
     "data": {
      "text/html": [
       "<div>\n",
       "<style scoped>\n",
       "    .dataframe tbody tr th:only-of-type {\n",
       "        vertical-align: middle;\n",
       "    }\n",
       "\n",
       "    .dataframe tbody tr th {\n",
       "        vertical-align: top;\n",
       "    }\n",
       "\n",
       "    .dataframe thead th {\n",
       "        text-align: right;\n",
       "    }\n",
       "</style>\n",
       "<table border=\"1\" class=\"dataframe\">\n",
       "  <thead>\n",
       "    <tr style=\"text-align: right;\">\n",
       "      <th></th>\n",
       "      <th>CODE</th>\n",
       "      <th>NAME</th>\n",
       "    </tr>\n",
       "  </thead>\n",
       "  <tbody>\n",
       "    <tr>\n",
       "      <th>0</th>\n",
       "      <td>ABATE_ABPEAV</td>\n",
       "      <td>Abate - aves - peso das carcaças</td>\n",
       "    </tr>\n",
       "    <tr>\n",
       "      <th>1</th>\n",
       "      <td>ABATE_ABPEBV</td>\n",
       "      <td>Abate - bovinos - peso das carcaças</td>\n",
       "    </tr>\n",
       "    <tr>\n",
       "      <th>2</th>\n",
       "      <td>ABATE_ABPESU</td>\n",
       "      <td>Abate - suínos - peso das carcaças</td>\n",
       "    </tr>\n",
       "    <tr>\n",
       "      <th>3</th>\n",
       "      <td>ABATE_ABQUAV</td>\n",
       "      <td>Abate - aves - quantidade</td>\n",
       "    </tr>\n",
       "    <tr>\n",
       "      <th>4</th>\n",
       "      <td>ABATE_ABQUBV</td>\n",
       "      <td>Abate - bovinos - quantidade</td>\n",
       "    </tr>\n",
       "    <tr>\n",
       "      <th>...</th>\n",
       "      <td>...</td>\n",
       "      <td>...</td>\n",
       "    </tr>\n",
       "    <tr>\n",
       "      <th>9561</th>\n",
       "      <td>PIBSIU</td>\n",
       "      <td>PIB Municipal (valor adicionado a preços básic...</td>\n",
       "    </tr>\n",
       "    <tr>\n",
       "      <th>9562</th>\n",
       "      <td>PIBT</td>\n",
       "      <td>PIB Municipal (valor adicionado a preços básic...</td>\n",
       "    </tr>\n",
       "    <tr>\n",
       "      <th>9563</th>\n",
       "      <td>PIBTAE</td>\n",
       "      <td>PIB Estadual (valor adicionado a preços básico...</td>\n",
       "    </tr>\n",
       "    <tr>\n",
       "      <th>9564</th>\n",
       "      <td>PIBTE</td>\n",
       "      <td>PIB Estadual (valor adicionado a preços básico...</td>\n",
       "    </tr>\n",
       "    <tr>\n",
       "      <th>9565</th>\n",
       "      <td>PIBVRAE</td>\n",
       "      <td>PIB Estadual (valor adicionado a preços básico...</td>\n",
       "    </tr>\n",
       "  </tbody>\n",
       "</table>\n",
       "<p>9566 rows × 2 columns</p>\n",
       "</div>"
      ],
      "text/plain": [
       "              CODE                                               NAME\n",
       "0     ABATE_ABPEAV                   Abate - aves - peso das carcaças\n",
       "1     ABATE_ABPEBV                Abate - bovinos - peso das carcaças\n",
       "2     ABATE_ABPESU                 Abate - suínos - peso das carcaças\n",
       "3     ABATE_ABQUAV                          Abate - aves - quantidade\n",
       "4     ABATE_ABQUBV                       Abate - bovinos - quantidade\n",
       "...            ...                                                ...\n",
       "9561        PIBSIU  PIB Municipal (valor adicionado a preços básic...\n",
       "9562          PIBT  PIB Municipal (valor adicionado a preços básic...\n",
       "9563        PIBTAE  PIB Estadual (valor adicionado a preços básico...\n",
       "9564         PIBTE  PIB Estadual (valor adicionado a preços básico...\n",
       "9565       PIBVRAE  PIB Estadual (valor adicionado a preços básico...\n",
       "\n",
       "[9566 rows x 2 columns]"
      ]
     },
     "execution_count": 3,
     "metadata": {},
     "output_type": "execute_result"
    }
   ],
   "source": [
    "idpy.list_series()"
   ]
  },
  {
   "cell_type": "code",
   "execution_count": null,
   "id": "7e5b3c26",
   "metadata": {},
   "outputs": [],
   "source": []
  }
 ],
 "metadata": {
  "kernelspec": {
   "display_name": "Python 3 (ipykernel)",
   "language": "python",
   "name": "python3"
  },
  "language_info": {
   "codemirror_mode": {
    "name": "ipython",
    "version": 3
   },
   "file_extension": ".py",
   "mimetype": "text/x-python",
   "name": "python",
   "nbconvert_exporter": "python",
   "pygments_lexer": "ipython3",
   "version": "3.11.3"
  }
 },
 "nbformat": 4,
 "nbformat_minor": 5
}
